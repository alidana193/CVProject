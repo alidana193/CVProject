{
  "nbformat": 4,
  "nbformat_minor": 0,
  "metadata": {
    "colab": {
      "provenance": [],
      "gpuType": "T4"
    },
    "kernelspec": {
      "name": "python3",
      "display_name": "Python 3"
    },
    "language_info": {
      "name": "python"
    }
  },
  "cells": [
    {
      "cell_type": "markdown",
      "source": [
        "# New Section"
      ],
      "metadata": {
        "id": "cKm4DZ7DVq2E"
      }
    },
    {
      "cell_type": "markdown",
      "source": [
        "**Import Library**"
      ],
      "metadata": {
        "id": "aIT4hWvdX6HX"
      }
    },
    {
      "cell_type": "code",
      "execution_count": 2,
      "metadata": {
        "id": "XnS4bZPqsQY5"
      },
      "outputs": [],
      "source": [
        "import numpy as np\n",
        "import tensorflow as tf\n",
        "from tensorflow.keras import layers, models\n",
        "from scipy.ndimage import zoom\n",
        "import numpy as np # linear algebra\n",
        "import pandas as pd # data processing,\n",
        "import os\n",
        "from tensorflow.keras.preprocessing.image import ImageDataGenerator\n"
      ]
    },
    {
      "cell_type": "code",
      "source": [
        "for dirname, _, filenames in os.walk('/content/drive/MyDrive/archive (3)'):\n",
        "    for filename in filenames:\n",
        "        print(os.path.join(dirname, filename))"
      ],
      "metadata": {
        "colab": {
          "base_uri": "https://localhost:8080/"
        },
        "id": "xKiJtBbxuVqk",
        "outputId": "ee6fd378-e8ff-4ccc-8ebc-fc5d0e49051e"
      },
      "execution_count": 3,
      "outputs": [
        {
          "output_type": "stream",
          "name": "stdout",
          "text": [
            "/content/drive/MyDrive/archive (3)/test_images.npy\n",
            "/content/drive/MyDrive/archive (3)/test_labels.npy\n",
            "/content/drive/MyDrive/archive (3)/train_images.npy\n",
            "/content/drive/MyDrive/archive (3)/train_labels.npy\n"
          ]
        }
      ]
    },
    {
      "cell_type": "code",
      "source": [
        "label_names = ['','angry','disgust','fear','happy','neutral','sad','surprise']\n"
      ],
      "metadata": {
        "id": "dc22YC4BST1N"
      },
      "execution_count": 4,
      "outputs": []
    },
    {
      "cell_type": "code",
      "source": [
        "# Load the data and preprocess it (assuming you have loaded your data here)\n",
        "training_images = np.load(\"/content/drive/MyDrive/archive (3)/train_images.npy\")\n",
        "training_labels = np.load(\"/content/drive/MyDrive/archive (3)/train_labels.npy\")\n",
        "testing_images = np.load(\"/content/drive/MyDrive/archive (3)/test_images.npy\")\n",
        "testing_labels = np.load(\"/content/drive/MyDrive/archive (3)/test_labels.npy\")\n"
      ],
      "metadata": {
        "id": "p7mfZglds_jZ"
      },
      "execution_count": 5,
      "outputs": []
    },
    {
      "cell_type": "code",
      "source": [
        "# Normalize the images to values between 0 and 1\n",
        "training_images = training_images.astype('float32') / 255.0\n",
        "testing_images = testing_images.astype('float32') / 255.0\n"
      ],
      "metadata": {
        "id": "x9BLCCQfpPOx"
      },
      "execution_count": 6,
      "outputs": []
    },
    {
      "cell_type": "code",
      "source": [
        "# Convert labels to categorical format\n",
        "num_classes = len(label_names)  # Number of facial expression classes\n",
        "training_labels = tf.keras.utils.to_categorical(training_labels, num_classes)\n",
        "testing_labels = tf.keras.utils.to_categorical(testing_labels, num_classes)\n"
      ],
      "metadata": {
        "id": "NiEtYcZTpTKL"
      },
      "execution_count": 7,
      "outputs": []
    },
    {
      "cell_type": "code",
      "source": [
        "# Data Augmentation\n",
        "datagen = ImageDataGenerator(\n",
        "    rotation_range=10,\n",
        "    zoom_range=0.1,\n",
        "    width_shift_range=0.1,\n",
        "    height_shift_range=0.1,\n",
        "    horizontal_flip=True\n",
        ")\n"
      ],
      "metadata": {
        "id": "tAIbKDW5pVSa"
      },
      "execution_count": 8,
      "outputs": []
    },
    {
      "cell_type": "code",
      "source": [
        "# Expanding dimensions for grayscale images\n",
        "training_images = np.expand_dims(training_images, axis=-1)\n",
        "testing_images = np.expand_dims(testing_images, axis=-1)\n"
      ],
      "metadata": {
        "id": "4gRnJxMFpYhD"
      },
      "execution_count": 9,
      "outputs": []
    },
    {
      "cell_type": "code",
      "source": [
        "# Define the CNN model\n",
        "model = models.Sequential([\n",
        "    layers.Conv2D(32, (3, 3), activation='relu', input_shape=(48, 48, 1)),\n",
        "    layers.MaxPooling2D((2, 2)),\n",
        "    layers.Conv2D(64, (3, 3), activation='relu'),\n",
        "    layers.MaxPooling2D((2, 2)),\n",
        "    layers.Conv2D(128, (3, 3), activation='relu'),\n",
        "    layers.MaxPooling2D((2, 2)),\n",
        "    layers.Flatten(),\n",
        "    layers.Dense(128, activation='relu'),\n",
        "    layers.Dense(num_classes, activation='softmax')\n",
        "])\n"
      ],
      "metadata": {
        "id": "gC5ZMDCBpcGY"
      },
      "execution_count": 10,
      "outputs": []
    },
    {
      "cell_type": "code",
      "source": [
        "# Compile the model\n",
        "model.compile(optimizer='adam',\n",
        "              loss='categorical_crossentropy',\n",
        "              metrics=['accuracy'])\n"
      ],
      "metadata": {
        "id": "-lbNeAJ6pfxR"
      },
      "execution_count": 11,
      "outputs": []
    },
    {
      "cell_type": "code",
      "source": [
        "# Define the number of epochs and batch size\n",
        "epochs = 50\n",
        "batch_size = 64\n",
        "\n",
        "# Training with data augmentation\n",
        "history = model.fit(datagen.flow(training_images, training_labels, batch_size=batch_size),\n",
        "                    epochs=epochs,\n",
        "                    validation_data=(testing_images, testing_labels))\n"
      ],
      "metadata": {
        "colab": {
          "base_uri": "https://localhost:8080/"
        },
        "id": "bjQcCNwHpkhL",
        "outputId": "86cd2e7b-bcc0-4d73-c0db-cf37b8d96222"
      },
      "execution_count": null,
      "outputs": [
        {
          "output_type": "stream",
          "name": "stdout",
          "text": [
            "Epoch 1/50\n",
            "212/449 [=============>................] - ETA: 1:08 - loss: 1.8059 - accuracy: 0.2519"
          ]
        }
      ]
    },
    {
      "cell_type": "code",
      "source": [
        "# Evaluate the model\n",
        "test_loss, test_accuracy = model.evaluate(testing_images, testing_labels)\n",
        "print(\"Test accuracy:\", test_accuracy)\n"
      ],
      "metadata": {
        "id": "2iPEQ3VppoBQ"
      },
      "execution_count": null,
      "outputs": []
    }
  ]
}